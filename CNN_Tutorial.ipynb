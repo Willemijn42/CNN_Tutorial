{
 "cells": [
  {
   "cell_type": "markdown",
   "metadata": {},
   "source": [
    "## Convolutional Neural Networks\n",
    "In machine learning, a convolutional neural network (CNN, or ConvNet) is a type of feed-forward artificial neural network in which the connectivity pattern between its neurons is inspired by the organization of the animal visual cortex, whose individual neurons are arranged in such a way that they respond to overlapping regions tiling the visual field. Convolutional networks were inspired by biological processes and are variations of multilayer perceptrons designed to use minimal amounts of preprocessing. They have wide applications in image and video recognition, recommender systems and natural language processing [weekipedia]."
   ]
  },
  {
   "cell_type": "markdown",
   "metadata": {},
   "source": [
    "## Overview of the assignment\n",
    "In this assignment you are going to build a **convolutional  neural network** that can take an image of a hand written digit and determine what digit is it.\n",
    "\n",
    "To do this, you are going to use the **MNIST** dataset. MNIST *(Mixed National Institute of Standards and Technology database)* is a large dataset of handwritten digits. It has a training set of 60,000 examples, and a test set of 10,000 examples[wikipedia]. More detail about the dataset, including Machine Learning algorithms that have been tried on it and their levels of success, can be found at http://yann.lecun.com/exdb/mnist/index.html.\n",
    "\n",
    "Take a look at this demo to get an idea of what we are going to do:\n",
    "http://scs.ryerson.ca/~aharley/vis/conv/flat.html"
   ]
  },
  {
   "cell_type": "markdown",
   "metadata": {},
   "source": [
    "## Get Prepared\n",
    "\n",
    "We are using python and theano to implement our model. You are already familiar  with python from your previous assignment. Here I'll give you a bried introduction about theano.\n",
    "\n",
    "### Theano\n",
    "Theano is an opensource python library that allows to define, optimize, and evaluate mathematical expressions involving multi-dimensional arrays efficiently [Theano paper:http://arxiv.org/pdf/1605.02688.pdf].\n",
    "In theano everything is symbolic. You define the computational graph with symbolic variables and operations and \n",
    "it will compile this graph and computes values of the variables based on the given inputs.\n",
    "\n",
    "Here you can read and learn more about theano: http://deeplearning.net/software/theano/theano.pdf\n",
    "\n",
    "And here you can find instructions on how to install theano: http://deeplearning.net/software/theano/install.html#install\n",
    "\n",
    "Take a look at this example to get some sense about how theano works: "
   ]
  },
  {
   "cell_type": "code",
   "execution_count": 166,
   "metadata": {
    "collapsed": false
   },
   "outputs": [],
   "source": [
    "import theano\n",
    "from theano.printing import pydotprint\n",
    "from theano import tensor\n",
    "\n",
    "# declare two symbolic floating-point scalars\n",
    "a = tensor.dscalar()\n",
    "b = tensor.dscalar()\n",
    "\n",
    "# Here we are telling theano, how c is related to a and b with + operator.\n",
    "c = a + b\n",
    "\n",
    "# Then we can define a function to return the value of c based on given values for and b. \n",
    "# The syntax for doing this is: function_name = theano.function([inputs],[outputs])\n",
    "f = theano.function([a,b], c)\n"
   ]
  },
  {
   "cell_type": "markdown",
   "metadata": {
    "collapsed": true
   },
   "source": [
    "Let's see how the computational graph looks like."
   ]
  },
  {
   "cell_type": "code",
   "execution_count": 167,
   "metadata": {
    "collapsed": false
   },
   "outputs": [
    {
     "name": "stdout",
     "output_type": "stream",
     "text": [
      "The output file is available at theano_graph_c.png\n"
     ]
    }
   ],
   "source": [
    "theano.printing.pydotprint(c, outfile=\"theano_graph_c.png\", var_with_name_simple=True)  "
   ]
  },
  {
   "cell_type": "markdown",
   "metadata": {
    "collapsed": true
   },
   "source": [
    "This is how the output should look like:\n",
    "<img src=\"theano_graph_c.png\" >"
   ]
  },
  {
   "cell_type": "markdown",
   "metadata": {},
   "source": [
    "And now we can call f like a function with values for a and b as its argument to get the value of c."
   ]
  },
  {
   "cell_type": "code",
   "execution_count": 168,
   "metadata": {
    "collapsed": false
   },
   "outputs": [
    {
     "name": "stdout",
     "output_type": "stream",
     "text": [
      "29.0\n"
     ]
    }
   ],
   "source": [
    "output = f(12,17)\n",
    "print(output)"
   ]
  },
  {
   "cell_type": "markdown",
   "metadata": {},
   "source": [
    "**<span class=\"girk\">Excersise:**</span> Using theano define a function to calculate the distance between two vectors with the same length. (You can use any difinition of for the distance)"
   ]
  },
  {
   "cell_type": "markdown",
   "metadata": {},
   "source": [
    "## Implementation\n",
    "\n",
    "### Required python packages"
   ]
  },
  {
   "cell_type": "code",
   "execution_count": 169,
   "metadata": {
    "collapsed": false
   },
   "outputs": [
    {
     "name": "stdout",
     "output_type": "stream",
     "text": [
      "Everything Imported Successfully.\n"
     ]
    }
   ],
   "source": [
    "# These are all the modules we'll be using later. Make sure you can import them\n",
    "# before proceeding further.\n",
    "\n",
    "import os\n",
    "import gzip\n",
    "import pickle\n",
    "import theano\n",
    "import numpy as np\n",
    "import pylab\n",
    "import matplotlib\n",
    "import matplotlib.pyplot as plt\n",
    "%matplotlib inline\n",
    "import theano\n",
    "import theano.tensor as T\n",
    "from theano.tensor.nnet import conv\n",
    "from theano.tensor.signal import pool\n",
    "\n",
    "print(\"Everything Imported Successfully.\")"
   ]
  },
  {
   "cell_type": "markdown",
   "metadata": {},
   "source": [
    "## Loading the data\n",
    "\n",
    "You don't need to really understand what happens inside this *load_mnist_data()*. Briefly, it loads the MNIST data into theano shared variables and return these variables."
   ]
  },
  {
   "cell_type": "code",
   "execution_count": 170,
   "metadata": {
    "collapsed": false
   },
   "outputs": [],
   "source": [
    "def load_mnist_data():\n",
    "    filename = \"data/mnist.pkl.gz\"\n",
    "    data_dir, data_file = os.path.split(filename)\n",
    "    if data_dir == \"\" and not os.path.isfile(filename):\n",
    "    # Check if dataset is in the data directory.\n",
    "        new_path = os.path.join(\n",
    "                    os.path.split(__file__)[0],\n",
    "                    \"..\",\n",
    "                    \"data\",\n",
    "                    filename\n",
    "                )\n",
    "        if os.path.isfile(new_path) or data_file == 'mnist.pkl.gz':\n",
    "                dataset = new_path\n",
    "\n",
    "    if (not os.path.isfile(filename)) and data_file == 'mnist.pkl.gz':\n",
    "        from six.moves import urllib\n",
    "        origin = ('http://www.iro.umontreal.ca/~lisa/deep/data/mnist/mnist.pkl.gz')\n",
    "        print('Downloading data from %s' % origin)\n",
    "        urllib.request.urlretrieve(origin, filename)\n",
    "\n",
    "    print('loading data ...')\n",
    "    with gzip.open(filename, 'rb') as f:\n",
    "        train_data, dev_data, test_data = pickle.load(f,encoding='latin1')\n",
    "\n",
    "        def shared_dataset(data_xy, borrow=True):\n",
    "            \"\"\" Function that loads the dataset into shared variables\n",
    "\n",
    "            The reason we store our dataset in shared variables is to allow\n",
    "            Theano to copy it into the GPU memory (when code is run on GPU).\n",
    "            Since copying data into the GPU is slow, copying a minibatch everytime\n",
    "            is needed (the default behaviour if the data is not in a shared\n",
    "            variable) would lead to a large decrease in performance.\n",
    "            \"\"\"\n",
    "            data_x, data_y = data_xy\n",
    "            shared_x = theano.shared(np.asarray(data_x, dtype=theano.config.floatX),\n",
    "                                         borrow=borrow)\n",
    "            shared_y = theano.shared(np.asarray(data_y,dtype=theano.config.floatX),\n",
    "                                         borrow=borrow)\n",
    "            # When storing data on the GPU it has to be stored as floats\n",
    "            # therefore we will store the labels as ``floatX`` as well\n",
    "            # (``shared_y`` does exactly that). But during our computations\n",
    "            # we need them as ints (we use labels as index, and if they are\n",
    "            # floats it doesn't make sense) therefore instead of returning\n",
    "            # ``shared_y`` we will have to cast it to int. This little hack\n",
    "            # lets ous get around this issue\n",
    "            return shared_x, theano.tensor.cast(shared_y, 'int32')\n",
    "\n",
    "    test_set_x, test_set_y = shared_dataset(test_data)\n",
    "    valid_set_x, valid_set_y = shared_dataset(dev_data)\n",
    "    train_set_x, train_set_y = shared_dataset(train_data)\n",
    "\n",
    "    rval = [(train_set_x, train_set_y), (valid_set_x, valid_set_y),\n",
    "                    (test_set_x, test_set_y)]\n",
    "    return rval\n",
    "  \n"
   ]
  },
  {
   "cell_type": "markdown",
   "metadata": {},
   "source": [
    "As you can see *load_mnist_data()* returns three sets of data, *train_set*, *valid_set* and *test_set*. For each of these sets we have $x$ and $y$. $x$ contains the image feature vectors and $y$ contains images corresponding labels, which is the digit they represent.\n",
    "\n",
    "We will use *train_set* and *valid_set* for training our model and *test_set* to measure the performance of the model.\n",
    "\n",
    "Let's see the shapes of these variables:"
   ]
  },
  {
   "cell_type": "code",
   "execution_count": 171,
   "metadata": {
    "collapsed": false
   },
   "outputs": [
    {
     "name": "stdout",
     "output_type": "stream",
     "text": [
      "loading data ...\n",
      "train set shape, x: [50000   784] y: [50000]\n",
      "valid set shape, x: [10000   784] y: [10000]\n",
      "test set shape, x: [10000   784] y: [10000]\n"
     ]
    }
   ],
   "source": [
    "(train_set_x, train_set_y), (valid_set_x, valid_set_y),(test_set_x, test_set_y) = load_mnist_data()\n",
    "\"\"\"\n",
    "A note on theano: since in theano every thing is symbolic, in order to get the value of a variable we need to\n",
    "call the eval() function.\n",
    "\"\"\"\n",
    "    \n",
    "print(\"train set shape, x: \"+str(train_set_x.shape.eval()) + \" y: \" + str(train_set_y.shape.eval()))\n",
    "print(\"valid set shape, x: \"+str(valid_set_x.shape.eval()) + \" y: \" + str(valid_set_y.shape.eval()))\n",
    "print(\"test set shape, x: \"+str(test_set_x.shape.eval()) + \" y: \" + str(test_set_y.shape.eval()))\n"
   ]
  },
  {
   "cell_type": "markdown",
   "metadata": {},
   "source": [
    "As you can see each image in this dataset is represented with 28x28(784) pixels and it's corresponding label is a number between 0 and 9.\n",
    "Here is how a sample image vector looks like:"
   ]
  },
  {
   "cell_type": "code",
   "execution_count": 172,
   "metadata": {
    "collapsed": false
   },
   "outputs": [
    {
     "name": "stdout",
     "output_type": "stream",
     "text": [
      "Label: 5 image featire vector:[ 0.          0.          0.          0.          0.          0.          0.\n",
      "  0.          0.          0.          0.          0.          0.          0.\n",
      "  0.          0.          0.          0.          0.          0.          0.\n",
      "  0.          0.          0.          0.          0.          0.          0.\n",
      "  0.          0.          0.          0.          0.          0.          0.\n",
      "  0.          0.          0.          0.          0.          0.          0.\n",
      "  0.          0.          0.          0.          0.          0.          0.\n",
      "  0.          0.          0.          0.          0.          0.          0.\n",
      "  0.          0.          0.          0.          0.          0.          0.\n",
      "  0.          0.          0.          0.          0.          0.          0.\n",
      "  0.          0.          0.          0.          0.          0.          0.\n",
      "  0.          0.          0.          0.          0.          0.          0.\n",
      "  0.          0.          0.          0.          0.          0.          0.\n",
      "  0.          0.          0.          0.          0.          0.          0.\n",
      "  0.          0.          0.          0.          0.          0.          0.\n",
      "  0.          0.          0.          0.          0.          0.          0.\n",
      "  0.          0.          0.          0.          0.          0.          0.\n",
      "  0.          0.          0.          0.          0.          0.          0.\n",
      "  0.          0.          0.          0.          0.          0.          0.\n",
      "  0.          0.          0.          0.          0.          0.          0.\n",
      "  0.          0.          0.          0.          0.          0.          0.\n",
      "  0.          0.          0.          0.          0.          0.01171875\n",
      "  0.0703125   0.0703125   0.0703125   0.4921875   0.53125     0.68359375\n",
      "  0.1015625   0.6484375   0.99609375  0.96484375  0.49609375  0.          0.\n",
      "  0.          0.          0.          0.          0.          0.          0.\n",
      "  0.          0.          0.          0.1171875   0.140625    0.3671875\n",
      "  0.6015625   0.6640625   0.98828125  0.98828125  0.98828125  0.98828125\n",
      "  0.98828125  0.87890625  0.671875    0.98828125  0.9453125   0.76171875\n",
      "  0.25        0.          0.          0.          0.          0.          0.\n",
      "  0.          0.          0.          0.          0.          0.19140625\n",
      "  0.9296875   0.98828125  0.98828125  0.98828125  0.98828125  0.98828125\n",
      "  0.98828125  0.98828125  0.98828125  0.98046875  0.36328125  0.3203125\n",
      "  0.3203125   0.21875     0.15234375  0.          0.          0.          0.\n",
      "  0.          0.          0.          0.          0.          0.          0.\n",
      "  0.          0.0703125   0.85546875  0.98828125  0.98828125  0.98828125\n",
      "  0.98828125  0.98828125  0.7734375   0.7109375   0.96484375  0.94140625\n",
      "  0.          0.          0.          0.          0.          0.          0.\n",
      "  0.          0.          0.          0.          0.          0.          0.\n",
      "  0.          0.          0.          0.          0.3125      0.609375\n",
      "  0.41796875  0.98828125  0.98828125  0.80078125  0.04296875  0.\n",
      "  0.16796875  0.6015625   0.          0.          0.          0.          0.\n",
      "  0.          0.          0.          0.          0.          0.          0.\n",
      "  0.          0.          0.          0.          0.          0.          0.\n",
      "  0.0546875   0.00390625  0.6015625   0.98828125  0.3515625   0.          0.\n",
      "  0.          0.          0.          0.          0.          0.          0.\n",
      "  0.          0.          0.          0.          0.          0.          0.\n",
      "  0.          0.          0.          0.          0.          0.          0.\n",
      "  0.          0.          0.54296875  0.98828125  0.7421875   0.0078125   0.\n",
      "  0.          0.          0.          0.          0.          0.          0.\n",
      "  0.          0.          0.          0.          0.          0.          0.\n",
      "  0.          0.          0.          0.          0.          0.          0.\n",
      "  0.          0.          0.04296875  0.7421875   0.98828125  0.2734375   0.\n",
      "  0.          0.          0.          0.          0.          0.          0.\n",
      "  0.          0.          0.          0.          0.          0.          0.\n",
      "  0.          0.          0.          0.          0.          0.          0.\n",
      "  0.          0.          0.          0.13671875  0.94140625  0.87890625\n",
      "  0.625       0.421875    0.00390625  0.          0.          0.          0.\n",
      "  0.          0.          0.          0.          0.          0.          0.\n",
      "  0.          0.          0.          0.          0.          0.          0.\n",
      "  0.          0.          0.          0.          0.          0.31640625\n",
      "  0.9375      0.98828125  0.98828125  0.46484375  0.09765625  0.          0.\n",
      "  0.          0.          0.          0.          0.          0.          0.\n",
      "  0.          0.          0.          0.          0.          0.          0.\n",
      "  0.          0.          0.          0.          0.          0.          0.\n",
      "  0.17578125  0.7265625   0.98828125  0.98828125  0.5859375   0.10546875\n",
      "  0.          0.          0.          0.          0.          0.          0.\n",
      "  0.          0.          0.          0.          0.          0.          0.\n",
      "  0.          0.          0.          0.          0.          0.          0.\n",
      "  0.          0.          0.0625      0.36328125  0.984375    0.98828125\n",
      "  0.73046875  0.          0.          0.          0.          0.          0.\n",
      "  0.          0.          0.          0.          0.          0.          0.\n",
      "  0.          0.          0.          0.          0.          0.          0.\n",
      "  0.          0.          0.          0.          0.          0.97265625\n",
      "  0.98828125  0.97265625  0.25        0.          0.          0.          0.\n",
      "  0.          0.          0.          0.          0.          0.          0.\n",
      "  0.          0.          0.          0.          0.          0.          0.\n",
      "  0.          0.          0.          0.1796875   0.5078125   0.71484375\n",
      "  0.98828125  0.98828125  0.80859375  0.0078125   0.          0.          0.\n",
      "  0.          0.          0.          0.          0.          0.          0.\n",
      "  0.          0.          0.          0.          0.          0.          0.\n",
      "  0.          0.          0.15234375  0.578125    0.89453125  0.98828125\n",
      "  0.98828125  0.98828125  0.9765625   0.7109375   0.          0.          0.\n",
      "  0.          0.          0.          0.          0.          0.          0.\n",
      "  0.          0.          0.          0.          0.          0.          0.\n",
      "  0.          0.09375     0.4453125   0.86328125  0.98828125  0.98828125\n",
      "  0.98828125  0.98828125  0.78515625  0.3046875   0.          0.          0.\n",
      "  0.          0.          0.          0.          0.          0.          0.\n",
      "  0.          0.          0.          0.          0.          0.          0.\n",
      "  0.08984375  0.2578125   0.83203125  0.98828125  0.98828125  0.98828125\n",
      "  0.98828125  0.7734375   0.31640625  0.0078125   0.          0.          0.\n",
      "  0.          0.          0.          0.          0.          0.          0.\n",
      "  0.          0.          0.          0.          0.          0.          0.0703125\n",
      "  0.66796875  0.85546875  0.98828125  0.98828125  0.98828125  0.98828125\n",
      "  0.76171875  0.3125      0.03515625  0.          0.          0.          0.\n",
      "  0.          0.          0.          0.          0.          0.          0.\n",
      "  0.          0.          0.          0.          0.          0.21484375\n",
      "  0.671875    0.8828125   0.98828125  0.98828125  0.98828125  0.98828125\n",
      "  0.953125    0.51953125  0.04296875  0.          0.          0.          0.\n",
      "  0.          0.          0.          0.          0.          0.          0.\n",
      "  0.          0.          0.          0.          0.          0.          0.\n",
      "  0.53125     0.98828125  0.98828125  0.98828125  0.828125    0.52734375\n",
      "  0.515625    0.0625      0.          0.          0.          0.          0.\n",
      "  0.          0.          0.          0.          0.          0.          0.\n",
      "  0.          0.          0.          0.          0.          0.          0.\n",
      "  0.          0.          0.          0.          0.          0.          0.\n",
      "  0.          0.          0.          0.          0.          0.          0.\n",
      "  0.          0.          0.          0.          0.          0.          0.\n",
      "  0.          0.          0.          0.          0.          0.          0.\n",
      "  0.          0.          0.          0.          0.          0.          0.\n",
      "  0.          0.          0.          0.          0.          0.          0.\n",
      "  0.          0.          0.          0.          0.          0.          0.\n",
      "  0.          0.          0.          0.          0.          0.          0.\n",
      "  0.          0.          0.          0.          0.          0.          0.\n",
      "  0.          0.          0.          0.          0.          0.          0.\n",
      "  0.          0.          0.          0.          0.          0.          0.\n",
      "  0.          0.          0.          0.        ]\n"
     ]
    }
   ],
   "source": [
    "print(\"Label: \"+ str(train_set_y[0].eval()) +\" image featire vector:\" +str(train_set_x[0].eval()))"
   ]
  },
  {
   "cell_type": "markdown",
   "metadata": {},
   "source": [
    "We can visualize the input images using their feature vectors:"
   ]
  },
  {
   "cell_type": "code",
   "execution_count": 173,
   "metadata": {
    "collapsed": false
   },
   "outputs": [],
   "source": [
    "def show_digit(digit_vector):\n",
    "\n",
    "    img = digit_vector.eval().reshape(28, 28)\n",
    "    fig = plt.figure()\n",
    "    ax = fig.add_subplot(1, 1, 1);\n",
    "    plt.axis('off')\n",
    "    ax.matshow(img, cmap=matplotlib.cm.binary)\n",
    "    plt.show()"
   ]
  },
  {
   "cell_type": "code",
   "execution_count": 174,
   "metadata": {
    "collapsed": false
   },
   "outputs": [
    {
     "data": {
      "image/png": "[encoded data removed]",
      "text/plain": [
       "<matplotlib.figure.Figure at 0x2324484e0>"
      ]
     },
     "metadata": {},
     "output_type": "display_data"
    }
   ],
   "source": [
    "show_digit(train_set_x[105])"
   ]
  },
  {
   "cell_type": "markdown",
   "metadata": {},
   "source": [
    "We want to implement a model which takes a digit image, it's feature vector, and predicts its value.\n",
    "\n",
    "### Single Perceptron\n",
    "\n",
    "Let's start by a single perceptron.\n",
    "\n",
    "<img  src=\"perceptron.png\">\n",
    "\n",
    "The equation for a single perceptron is: $Y = activation(Wx+b)$\n",
    "W is the weight matrix and b is the bias vector. In the problem of digit recognition the output, $Y$, is a vector of size 10. In order to predict what digit is the input image we apply $argmax$ on $Y$."
   ]
  },
  {
   "cell_type": "code",
   "execution_count": 175,
   "metadata": {
    "collapsed": true
   },
   "outputs": [],
   "source": [
    "class Perceptron(object): #Y = activation( Wx + bias)\n",
    "    \n",
    "    def __init__(self, input, input_dim, output_dim):\n",
    "        self.input = input #input is a vector or vectors of image features \n",
    "        self.input_dim = input_dim #input_dim is the size of each image feature vector. In our case it is 28*28\n",
    "        self.output_dim = output_dim #output_dim is size of Y. In our case it should be the number if digits which is 10\n",
    "        \n",
    "        self.initialize_params() #in this function we initialize the wight values as theano shared variables.\n",
    "        self.build_model() #in this function we tell theano how it should calculate output given input.\n",
    "        \n",
    "    def initialize_params(self): #initializing the weight matrix and the bias vector\n",
    "        \"\"\"np.zeros(shape,dtype) makes a matrix of shape shape and type dtype. \n",
    "        Here the we need W to be of shape (ouput_dim,input_dim) so W.X would be a vector size output_dim.\n",
    "        \"\"\"\n",
    "        w_value = np.zeros((self.input_dim,self.output_dim), dtype=theano.config.floatX)\n",
    "        #this is how we define a theano shared variable.\n",
    "        self.W = theano.shared(value=w_value, name=\"W\", borrow=True) \n",
    "        \"\"\"\n",
    "        The bias balue should be a vector of size output_dim\n",
    "        \"\"\"\n",
    "        bias_value = np.zeros(self.output_dim, dtype=theano.config.floatX)\n",
    "        self.bias = theano.shared(value=bias_value, name=\"bias\", borrow=True)\n",
    "\n",
    "        #we keep these parameters in a list so that later we can access them without the need to know what are they exactly.\n",
    "        self.params = [self.W, self.bias] \n",
    "\n",
    "    def build_model(self): \n",
    "        \"\"\"\n",
    "        One thing you should note in here is that self.input is a list of image feature vectors not just a single one.\n",
    "        More accurately the self.input.shape is (batch_size, image_feature_vector_size)\n",
    "        \"\"\"\n",
    "        \n",
    "        #We use the softmax function implemented in theano: T.nnet.softmax\n",
    "        self.probabilities = T.nnet.softmax(T.dot(self.input,self.W) + self.bias)\n",
    "        #Set the predicted digit to be the digit with the maximum probability. \n",
    "        #We have set axis=1, in order to determind the predicted digit for each row of the input matrix, ie. is for each image \n",
    "        self.predictions = np.argmax(self.probabilities,axis=1)\n",
    "        \n",
    "    def cost_function(self,train_y):\n",
    "        return -T.mean(T.log(self.probabilities)[T.arange(train_y.shape[0]), train_y])\n",
    "    def errors(self,y):\n",
    "        return T.mean(T.neq(self.predictions, y))"
   ]
  },
  {
   "cell_type": "markdown",
   "metadata": {},
   "source": [
    "In the above code, the *build_model* function is the part where we define the relations between input, output and the parameters of the model.\n",
    "\n",
    "We choose the activation function to be softmax. Softmax squashes a K-dimensional vector of arbitrary real values to a K-dimensional vector of real values in the range (0, 1) that add up to 1 [wikipedia]. This way we can assume $Y$ is a probabilistic distribution over all possible digits.\n",
    "Here you can read more about the softmax function:\n",
    "https://en.wikipedia.org/wiki/Softmax_function\n",
    "\n",
    "So... we tell theano how to calculate the probabilities of the digits given the input image feature vector.\n",
    "Then we define the predicted digit, to be the digit with the maximum probability."
   ]
  },
  {
   "cell_type": "markdown",
   "metadata": {},
   "source": [
    "What is the *cost_function* about?\n",
    "\n",
    "Up to here, we have defined everything needed to have a perceptron which can predict the output given an input based on its parameter values that are set randomly. \n",
    "Well our perceptron might not perform very well if its parameters are not set properly. So we need to train our perceptron. Training the perceptron means changing it's parameter values until its output values are mostly correct. \n",
    "\n",
    "How do we do this? Well first, each time it makes a predictions it should know how far is its guess from the correct answer. Hence, we need to define a cost function that measures the difference between the predicted and correct answers and for training the perceptron, we try to modify its parameters to minimize this cost.  A gradient descent algorithm is used to update the parameters and minimize the cost function. You have already got familiar with it in your previous assignment.\n",
    "\n",
    "In the end we define this error function so that we can see how many error does our model makes in its predictions."
   ]
  },
  {
   "cell_type": "markdown",
   "metadata": {},
   "source": [
    "Now, lets see how our single perceptron performs before training. \n",
    "This step is called forward pass. "
   ]
  },
  {
   "cell_type": "code",
   "execution_count": 176,
   "metadata": {
    "collapsed": false
   },
   "outputs": [
    {
     "name": "stdout",
     "output_type": "stream",
     "text": [
      "Target: 5 Predicted: 0\n",
      "Target: 0 Predicted: 0\n",
      "Target: 4 Predicted: 0\n",
      "Target: 1 Predicted: 0\n",
      "Target: 9 Predicted: 0\n",
      "Target: 2 Predicted: 0\n",
      "Target: 1 Predicted: 0\n",
      "Target: 3 Predicted: 0\n",
      "Target: 1 Predicted: 0\n",
      "Target: 4 Predicted: 0\n"
     ]
    }
   ],
   "source": [
    "#we need to define the input node as a theano variable\n",
    "x = T.matrix('x')\n",
    "batch_size = 500 # We are going to feed the image feature vectors to the perceptron in batches of size 500. Why?\n",
    "input_layer = x.reshape((batch_size,28*28))\n",
    "\n",
    "#initialize and object of type perceptron\n",
    "perc_layer = Perceptron(input=input_layer, \n",
    "                               input_dim=28*28, \n",
    "                               output_dim=10)\n",
    "\n",
    "#now we\n",
    "get_prediction = theano.function([x],perc_layer.predictions)\n",
    "output = get_prediction(train_set_x[0:batch_size].eval())\n",
    "\n",
    "for t,y in zip(train_set_y[0:10].eval(),output[0:10]):\n",
    "    print(\"Target: \"+str(t)+\" Predicted: \"+str(y))\n"
   ]
  },
  {
   "cell_type": "markdown",
   "metadata": {},
   "source": [
    "Let's take a look at one of the probability distributions:\n"
   ]
  },
  {
   "cell_type": "code",
   "execution_count": 177,
   "metadata": {
    "collapsed": false
   },
   "outputs": [
    {
     "name": "stdout",
     "output_type": "stream",
     "text": [
      "[ 0.1  0.1  0.1  0.1  0.1  0.1  0.1  0.1  0.1  0.1]\n"
     ]
    }
   ],
   "source": [
    "get_probability = theano.function([x],perc_layer.probabilities)\n",
    "print(get_probability(train_set_x[0:batch_size].eval())[0])"
   ]
  },
  {
   "cell_type": "markdown",
   "metadata": {},
   "source": [
    "The perceptron doesn't know any thing about digits... :D \n",
    "\n",
    "<span class=\"girk\">**Excersie:**</span> Try to initialize the parameters (W,b) in a different way and see what happens.\n",
    "\n",
    "Let's train the perceptron:"
   ]
  },
  {
   "cell_type": "code",
   "execution_count": 178,
   "metadata": {
    "collapsed": false
   },
   "outputs": [],
   "source": [
    "# y is the label vectors.  we should define a theano variable for the labels so the theano can\n",
    "# compute the cost.\n",
    "y = T.ivector('y') \n",
    "\n",
    "#Here we are defining how the parameter values should be updated after each forward pass\n",
    "cost = perc_layer.cost_function(y)\n",
    "grads = T.grad(cost, perc_layer.params)\n",
    "learning_rate = 0.1\n",
    "updates = [(param_i, param_i - learning_rate * grad_i) for param_i,grad_i in zip(perc_layer.params,grads)]\n",
    "training_step = theano.function([x,y], [cost], updates=updates)\n",
    "\n",
    "#Here we are defining how we want measure the performance of our model in the test phase\n",
    "error = perc_layer.errors(y)\n",
    "test_model = theano.function([x,y], error)\n",
    "\n"
   ]
  },
  {
   "cell_type": "markdown",
   "metadata": {},
   "source": [
    "we can train the perceptron for multiple epoch. Let's do it for one epoch now: "
   ]
  },
  {
   "cell_type": "code",
   "execution_count": 179,
   "metadata": {
    "collapsed": false
   },
   "outputs": [
    {
     "name": "stdout",
     "output_type": "stream",
     "text": [
      "training ...\n",
      "epoch: 0 train accuracy: 0.859240 validation accuracy: 0.878100\n"
     ]
    }
   ],
   "source": [
    "train_batch_count = train_set_x.shape[0].eval() // batch_size \n",
    "valid_batch_count = valid_set_x.shape[0].eval() // batch_size\n",
    "test_batch_count = test_set_x.shape[0].eval() // batch_size\n",
    "\n",
    "number_of_epochs = 1\n",
    "print(\"training ...\")\n",
    "for epoch in range(number_of_epochs):\n",
    "    batch_count = 1\n",
    "    train_error = 0\n",
    "    valid_error = 0\n",
    "    for i in np.random.permutation(int(train_batch_count)):\n",
    "        training_step(train_set_x[i*batch_size:(i+1)*batch_size].eval(),train_set_y[i*batch_size:(i+1)*batch_size].eval())\n",
    "\n",
    "    for i in np.arange(int(valid_batch_count)):\n",
    "        valid_error += test_model(valid_set_x[i*batch_size:(i+1)*batch_size].eval(),\n",
    "                                    np.asarray(valid_set_y[i*batch_size:(i+1)*batch_size].eval(),dtype='int32'))\n",
    "    \n",
    "    for i in np.arange(int(train_batch_count)):\n",
    "        train_error += test_model(train_set_x[i*batch_size:(i+1)*batch_size].eval(),\n",
    "                                     np.asarray(train_set_y[i*batch_size:(i+1)*batch_size].eval(),dtype='int32'))\n",
    "\n",
    "    valid_error = valid_error / valid_batch_count\n",
    "    train_error = train_error / train_batch_count\n",
    "    print(\"epoch: %i train accuracy: %f validation accuracy: %f\" %(epoch, 1.0 - train_error,1.0 - valid_error))\n",
    "    batch_count += 1\n"
   ]
  },
  {
   "cell_type": "markdown",
   "metadata": {},
   "source": [
    "**Excersize:** "
   ]
  },
  {
   "cell_type": "markdown",
   "metadata": {},
   "source": [
    "Let's see the predictions for a small set of inputs:"
   ]
  },
  {
   "cell_type": "code",
   "execution_count": 180,
   "metadata": {
    "collapsed": false
   },
   "outputs": [
    {
     "name": "stdout",
     "output_type": "stream",
     "text": [
      "Traget: 5 Predicted: 3\n",
      "Traget: 0 Predicted: 0\n",
      "Traget: 4 Predicted: 4\n",
      "Traget: 1 Predicted: 1\n",
      "Traget: 9 Predicted: 9\n",
      "Traget: 2 Predicted: 2\n",
      "Traget: 1 Predicted: 1\n",
      "Traget: 3 Predicted: 3\n",
      "Traget: 1 Predicted: 1\n",
      "Traget: 4 Predicted: 4\n"
     ]
    }
   ],
   "source": [
    "output = get_prediction(train_set_x[0:batch_size].eval())\n",
    "\n",
    "for t,y in zip(train_set_y[0:10].eval(),output[0:10]):\n",
    "    print(\"Traget: \"+str(t)+\" Predicted: \"+str(y))"
   ]
  },
  {
   "cell_type": "markdown",
   "metadata": {},
   "source": [
    "Of course it's much better now. \n",
    "How do you think the weight matrix (W) looks like now? We will plot the weights mapping the input to each output unit seperately."
   ]
  },
  {
   "cell_type": "code",
   "execution_count": 182,
   "metadata": {
    "collapsed": false
   },
   "outputs": [
    {
     "data": {
      "image/png": "[encoded data removed]",
      "text/plain": [
       "<matplotlib.figure.Figure at 0x2558c9c88>"
      ]
     },
     "metadata": {},
     "output_type": "display_data"
    },
    {
     "data": {
      "image/png": "[encoded data removed]",
      "text/plain": [
       "<matplotlib.figure.Figure at 0x255b82940>"
      ]
     },
     "metadata": {},
     "output_type": "display_data"
    },
    {
     "data": {
      "image/png": "[encoded data removed]",
      "text/plain": [
       "<matplotlib.figure.Figure at 0x255df6cf8>"
      ]
     },
     "metadata": {},
     "output_type": "display_data"
    },
    {
     "data": {
      "image/png": "[encoded data removed]",
      "text/plain": [
       "<matplotlib.figure.Figure at 0x2560ab320>"
      ]
     },
     "metadata": {},
     "output_type": "display_data"
    },
    {
     "data": {
      "image/png": "[encoded data removed]",
      "text/plain": [
       "<matplotlib.figure.Figure at 0x2562204a8>"
      ]
     },
     "metadata": {},
     "output_type": "display_data"
    },
    {
     "data": {
      "image/png": "[encoded data removed]",
      "text/plain": [
       "<matplotlib.figure.Figure at 0x25639fa90>"
      ]
     },
     "metadata": {},
     "output_type": "display_data"
    },
    {
     "data": {
      "image/png": "[encoded data removed]",
      "text/plain": [
       "<matplotlib.figure.Figure at 0x256514c18>"
      ]
     },
     "metadata": {},
     "output_type": "display_data"
    },
    {
     "data": {
      "image/png": "[encoded data removed]",
      "text/plain": [
       "<matplotlib.figure.Figure at 0x2565c4240>"
      ]
     },
     "metadata": {},
     "output_type": "display_data"
    },
    {
     "data": {
      "image/png": "[encoded data removed]",
      "text/plain": [
       "<matplotlib.figure.Figure at 0x2569263c8>"
      ]
     },
     "metadata": {},
     "output_type": "display_data"
    },
    {
     "data": {
      "image/png": "[encoded data removed]",
      "text/plain": [
       "<matplotlib.figure.Figure at 0x2569d09b0>"
      ]
     },
     "metadata": {},
     "output_type": "display_data"
    }
   ],
   "source": [
    "def show_weight_matrix(weight_matrix,n,m,k):\n",
    "    \n",
    "    ax = fig.add_subplot(n, m, k);\n",
    "    plt.axis('off')\n",
    "    ax.imshow(weight_matrix, cmap=matplotlib.cm.binary,interpolation='nearest',aspect='auto')\n",
    "    plt.show()\n",
    "\n",
    "fig = plt.figure()\n",
    "show_weight_matrix(perc_layer.W[:,0].eval().reshape(28,28),3,4,1)\n",
    "show_weight_matrix(perc_layer.W[:,1].eval().reshape(28,28),3,4,2)\n",
    "show_weight_matrix(perc_layer.W[:,2].eval().reshape(28,28),3,4,3)\n",
    "show_weight_matrix(perc_layer.W[:,3].eval().reshape(28,28),3,4,4)\n",
    "show_weight_matrix(perc_layer.W[:,4].eval().reshape(28,28),3,4,5)\n",
    "show_weight_matrix(perc_layer.W[:,5].eval().reshape(28,28),3,4,6)\n",
    "show_weight_matrix(perc_layer.W[:,6].eval().reshape(28,28),3,4,7)\n",
    "show_weight_matrix(perc_layer.W[:,7].eval().reshape(28,28),3,4,8)\n",
    "show_weight_matrix(perc_layer.W[:,8].eval().reshape(28,28),3,4,9)\n",
    "show_weight_matrix(perc_layer.W[:,9].eval().reshape(28,28),3,4,10)\n",
    "\n"
   ]
  },
  {
   "cell_type": "markdown",
   "metadata": {},
   "source": [
    "Now, we will extend our single perceptron to a single layer fully connected  neural network, with 50 perceptrons:\n",
    "\n",
    "<img src=\"mnist_and_mlp1.png\">"
   ]
  },
  {
   "cell_type": "code",
   "execution_count": 90,
   "metadata": {
    "collapsed": false
   },
   "outputs": [],
   "source": [
    "class FullyConnectedLayer(object):\n",
    "    def __init__(self, random_state, input, input_dim, output_dim, W=None, bias=None, activation=T.tanh):\n",
    "        self.input = input\n",
    "        self.input_dim = input_dim\n",
    "        self.output_dim = output_dim\n",
    "        self.random_state = random_state\n",
    "        self.activation = activation\n",
    "\n",
    "\n",
    "        self.W, self.bias = self.initialize_weights(W, bias)\n",
    "        self.params = [self.W,self.bias]\n",
    "\n",
    "        linear_output = T.dot(input,self.W) + self.bias\n",
    "        if activation is None:\n",
    "            self.output = linear_output\n",
    "        else:\n",
    "            self.output = activation(linear_output)\n",
    "\n",
    "    def initialize_weights(self, W, bias):\n",
    "        if W is None:\n",
    "            w_values = np.asarray(\n",
    "                self.random_state.uniform(-np.sqrt(6.0 / (self.input_dim + self.output_dim)),\n",
    "                                     np.sqrt(6.0 / (self.input_dim + self.output_dim)),\n",
    "                                     (self.input_dim,self.output_dim))\n",
    "                , dtype=theano.config.floatX)\n",
    "            W = theano.shared(value=w_values, name=\"W\", borrow=\"True\")\n",
    "            \n",
    "        if bias is None:\n",
    "            bias_values = np.zeros(self.output_dim, dtype=theano.config.floatX)\n",
    "            bias = theano.shared(value=bias_values, name=\"bias\", borrow=\"True\")\n",
    "\n",
    "        return W,bias    "
   ]
  },
  {
   "cell_type": "markdown",
   "metadata": {},
   "source": [
    "Let's see the results of a feed forward pass:"
   ]
  },
  {
   "cell_type": "code",
   "execution_count": 93,
   "metadata": {
    "collapsed": false
   },
   "outputs": [
    {
     "name": "stdout",
     "output_type": "stream",
     "text": [
      "Target: 5 Predicted: 0\n",
      "Target: 0 Predicted: 0\n",
      "Target: 4 Predicted: 0\n",
      "Target: 1 Predicted: 0\n",
      "Target: 9 Predicted: 0\n",
      "Target: 2 Predicted: 0\n",
      "Target: 1 Predicted: 0\n",
      "Target: 3 Predicted: 0\n",
      "Target: 1 Predicted: 0\n",
      "Target: 4 Predicted: 0\n"
     ]
    }
   ],
   "source": [
    "#This is how we create a random number generator with numpy... we will use it to initialize parameters of the network.\n",
    "rng = np.random.RandomState(23455)\n",
    "x = T.matrix('x')\n",
    "input_layer = x.reshape((batch_size,28*28))\n",
    "#number_of_channels = 1 # out images have only 1 channel since they are balck and white images.\n",
    "#input_layer = x.reshape((100,1,28*28))\n",
    "\n",
    "full_layer = FullyConnectedLayer(\n",
    "                    random_state=rng,\n",
    "                    input=input_layer,\n",
    "                    input_dim= 28*28,\n",
    "                    output_dim=50,\n",
    "                    activation=T.tanh\n",
    "        )\n",
    "\n",
    "perc_layer = Perceptron(input=full_layer.output, \n",
    "                               input_dim=full_layer.output_dim, \n",
    "                               output_dim=10)\n",
    "\n",
    "\n",
    "get_prediction = theano.function([x],perc_layer.predictions)\n",
    "output = get_prediction(train_set_x[0:batch_size].eval())\n",
    "\n",
    "for t,y in zip(train_set_y[0:10].eval(),output[0:10]):\n",
    "    print(\"Target: \"+str(t)+\" Predicted: \"+str(y))\n"
   ]
  },
  {
   "cell_type": "markdown",
   "metadata": {},
   "source": [
    "Basically we can train a single layer fully connected network the same way we trained our single perceptron."
   ]
  },
  {
   "cell_type": "code",
   "execution_count": 97,
   "metadata": {
    "collapsed": false
   },
   "outputs": [
    {
     "name": "stdout",
     "output_type": "stream",
     "text": [
      "training ...\n",
      "epoch: 0 train accuracy: 0.677260 validation accuracy: 0.703400\n"
     ]
    }
   ],
   "source": [
    "y = T.ivector('y') \n",
    "\n",
    "#Here we are defining how the parameter values should be updated after each forward pass\n",
    "cost = perc_layer.cost_function(y)\n",
    "grads = T.grad(cost, perc_layer.params)\n",
    "learning_rate = 0.1\n",
    "updates = [(param_i, param_i - learning_rate * grad_i) for param_i,grad_i in zip(perc_layer.params,grads)]\n",
    "training_step = theano.function([x,y], [cost], updates=updates)\n",
    "\n",
    "#Here we are defining how we want measure the performance of our model in the test phase\n",
    "error = perc_layer.errors(y)\n",
    "test_model = theano.function([x,y], error)\n",
    "\n",
    "number_of_epochs = 1\n",
    "print(\"training ...\")\n",
    "for epoch in range(number_of_epochs):\n",
    "    batch_count = 1\n",
    "    train_error = 0\n",
    "    valid_error = 0\n",
    "    for i in np.random.permutation(int(train_batch_count)):\n",
    "        training_step(train_set_x[i*batch_size:(i+1)*batch_size].eval(),train_set_y[i*batch_size:(i+1)*batch_size].eval())\n",
    "\n",
    "    for i in np.arange(int(valid_batch_count)):\n",
    "        valid_error += test_model(valid_set_x[i*batch_size:(i+1)*batch_size].eval(),\n",
    "                                    np.asarray(valid_set_y[i*batch_size:(i+1)*batch_size].eval(),dtype='int32'))\n",
    "    \n",
    "    for i in np.arange(int(train_batch_count)):\n",
    "        train_error += test_model(train_set_x[i*batch_size:(i+1)*batch_size].eval(),\n",
    "                                     np.asarray(train_set_y[i*batch_size:(i+1)*batch_size].eval(),dtype='int32'))\n",
    "\n",
    "    valid_error = valid_error / valid_batch_count\n",
    "    train_error = train_error / train_batch_count\n",
    "    print(\"epoch: %i train accuracy: %f validation accuracy: %f\" %(epoch, 1.0 - train_error,1.0 - valid_error))\n",
    "    batch_count += 1\n"
   ]
  },
  {
   "cell_type": "markdown",
   "metadata": {},
   "source": [
    "What happens to the performance? Why?\n",
    "\n",
    "Run the training for more epochs, what happens?\n",
    "\n",
    "Increase and  decrease the number if perceptrons in the hidden layer, what happens?"
   ]
  },
  {
   "cell_type": "markdown",
   "metadata": {
    "collapsed": true
   },
   "source": [
    "Convolutional Layer:\n",
    "\n",
    "Convolutional layer has two steps, convolution and pooling.\n",
    "\n",
    "Natural images have the property of being stationary, meaning that the statistics of one part of the image are the same as any other part. This suggests that the features that we learn at one part of the image can also be applied to other parts of the image, and we can use the same features at all locations.\n",
    "\n",
    "More precisely, having learned features over small (say 8x8) patches sampled randomly from the larger image, we can then apply this learned 8x8 feature detector anywhere in the image. Specifically, we can take the learned 8x8 features and convolve them with the larger image, thus obtaining a different feature activation value at each location in the image.\n",
    "\n",
    "You can get an idea of what happens in the convolution step from this picture:\n",
    "\n",
    "<img src=\"conv_gif.gif\">\n",
    "\n",
    "After obtaining features using convolution, we would next like to use them for classification. In theory, one could use all the extracted features with a classifier such as a softmax classifier, but this can be computationally challenging. Consider for instance images of size 96x96 pixels, and suppose we have learned 400 features over 8x8 inputs. Each convolution results in an output of size (96 − 8 + 1) * (96 − 8 + 1) = 7921, and since we have 400 features, this results in a vector of 892 * 400 = 3,168,400 features per example. Learning a classifier with inputs having 3+ million features can be unwieldy, and can also be prone to over-fitting.\n",
    "\n",
    "To address this, first recall that we decided to obtain convolved features because images have the \"stationarity\" property, which implies that features that are useful in one region are also likely to be useful for other regions. Thus, to describe a large image, one natural approach is to aggregate statistics of these features at various locations. For example, one could compute the mean (or max) value of a particular feature over a region of the image. These summary statistics are much lower in dimension (compared to using all of the extracted features) and can also improve results (less over-fitting). We aggregation operation is called this operation pooling, or sometimes mean pooling or max pooling (depending on the pooling operation applied).\n",
    "The following image shows how pooling is done over 4 non-overlapping regions of the image.\n",
    "\n",
    "<img src=\"Pooling_schematic.gif\">"
   ]
  },
  {
   "cell_type": "code",
   "execution_count": 100,
   "metadata": {
    "collapsed": false
   },
   "outputs": [],
   "source": [
    "class ConvolutionLayer(object):\n",
    "    \n",
    "    def __init__(self, input,random_state, image_shape, filter_shape, pooling_size):\n",
    "        self.input = input\n",
    "        self.pooling = pooling_size\n",
    "        self.random_state = random_state\n",
    "        self.input_dim = np.prod(filter_shape[1:])\n",
    "        self.output_dim = filter_shape[0] * np.prod(filter_shape[2:]) // np.prod(self.pooling)\n",
    "        self.filter_shape = filter_shape\n",
    "        self.W, self.bias = self.initialize_weights()\n",
    "\n",
    "        conv_out = conv.conv2d(input=input,filters=self.W,filter_shape=filter_shape,image_shape=image_shape)\n",
    "        pooled_out = pool.pool_2d(input=conv_out, ds=pooling_size, ignore_border=True)\n",
    "\n",
    "        self.output = T.tanh(pooled_out + self.bias.dimshuffle('x',0,'x','x'))\n",
    "        self.params = [self.W, self.bias]\n",
    "\n",
    "    def initialize_weights(self):\n",
    "         w_values = np.asarray(\n",
    "             self.random_state.uniform(-np.sqrt(6.0 / (self.input_dim + self.output_dim)),\n",
    "                                       np.sqrt(6.0 / (self.input_dim + self.output_dim)),\n",
    "                                       self.filter_shape)\n",
    "             , dtype=theano.config.floatX)\n",
    "\n",
    "\n",
    "         W = theano.shared(value=w_values, name=\"W\", borrow=\"True\")\n",
    "\n",
    "         bias_values = np.zeros(self.filter_shape[0], dtype=theano.config.floatX)\n",
    "         bias = theano.shared(value=bias_values, name=\"bias\", borrow=\"True\")\n",
    "\n",
    "         return W,bias\n",
    "        \n",
    "\n"
   ]
  },
  {
   "cell_type": "markdown",
   "metadata": {},
   "source": [
    "Lets see what is the output of a convolutional layer:"
   ]
  },
  {
   "cell_type": "code",
   "execution_count": 113,
   "metadata": {
    "collapsed": false
   },
   "outputs": [
    {
     "name": "stdout",
     "output_type": "stream",
     "text": [
      "(10, 12, 12)\n"
     ]
    }
   ],
   "source": [
    "x = T.matrix('x')\n",
    "number_of_channels = 1\n",
    "input_layer = x.reshape((batch_size, number_of_channels, 28, 28))\n",
    "\n",
    "conv_layer = ConvolutionLayer(random_state=rng,\n",
    "                    input=input_layer,\n",
    "                    image_shape=(batch_size,1,28,28),\n",
    "                    filter_shape=(10,1,5,5),\n",
    "                    pooling_size=(2,2))\n",
    "\n",
    "f = theano.function([x],conv_layer.output)\n",
    "\n",
    "output = f(train_set_x[0:batch_size].eval())\n",
    "\n",
    "print(output[0].shape)"
   ]
  },
  {
   "cell_type": "code",
   "execution_count": 111,
   "metadata": {
    "collapsed": false
   },
   "outputs": [
    {
     "data": {
      "image/png": "[encoded data removed]",
      "text/plain": [
       "<matplotlib.figure.Figure at 0x14cc50d68>"
      ]
     },
     "metadata": {},
     "output_type": "display_data"
    }
   ],
   "source": [
    "def show_images(vectors,shape=(12,12)): \n",
    "    \n",
    "    fig = plt.figure()\n",
    "    \n",
    "    ax={}\n",
    "    for i in np.arange(len(vectors)):\n",
    "        ax[i] = fig.add_subplot(1, len(vectors), i+1)\n",
    "        img = vectors[i].reshape(shape)\n",
    "        \n",
    "        plt.axis('off')\n",
    "        ax[i].matshow(img, cmap=matplotlib.cm.binary)\n",
    "    \n",
    "    plt.axis('off')\n",
    "    plt.show()\n",
    "    \n",
    "show_images(output[0])"
   ]
  },
  {
   "cell_type": "markdown",
   "metadata": {
    "collapsed": false
   },
   "source": [
    "Change filter shape and pooling size, what happens?"
   ]
  },
  {
   "cell_type": "markdown",
   "metadata": {},
   "source": [
    "Now lets put every thing together to build a convolutional network for digit recognition.\n",
    "In this model we will feed the input to a convolutional layer, the output of the convolutional layer goes\n",
    "through a fully connected hidden layer and the a single perceptron predicts the digit based on the output of \n",
    "the hidden layer.\n",
    "\n",
    "This is an outline of what we want to build eventually:\n",
    "\n",
    "<img src=\"fig1.png\">"
   ]
  },
  {
   "cell_type": "code",
   "execution_count": 135,
   "metadata": {
    "collapsed": true
   },
   "outputs": [],
   "source": [
    "class ConvolutionalNetwork(object):\n",
    "\n",
    "    def __init__(self, batch_size=500,input_shape= (1,28,28),numbers_of_feature_maps=[1,10],filter_shape=(5,5), pooling_size=(2, 2),output_size=10, learning_rate=0.1):\n",
    "        self.input_shape = input_shape\n",
    "        self.numbers_of_feature_maps = numbers_of_feature_maps\n",
    "        self.filter_shape = filter_shape\n",
    "        self.pooling_size = pooling_size\n",
    "        self.learning_rate = learning_rate\n",
    "\n",
    "        self.output_size = output_size\n",
    "        self.batch_size = batch_size\n",
    "        self.stride = 1\n",
    "        self.zero_padding = 0\n",
    "        self.calculate_image_shape_in_each_layer()\n",
    "\n",
    "\n",
    "    def calculate_image_shape_in_each_layer(self):\n",
    "        self.image_shape = np.zeros((len(self.numbers_of_feature_maps),2) , dtype=np.int)\n",
    "\n",
    "        self.image_shape[0] = (self.input_shape[1],self.input_shape[2])\n",
    "        for i in np.arange(1,len(self.image_shape),1):\n",
    "            self.image_shape[i][0] = (((self.image_shape[i-1][0] - self.filter_shape[0] + 2*self.zero_padding)/ self.stride) + 1) / self.pooling_size[0]\n",
    "            self.image_shape[i][1] = (((self.image_shape[i-1][1] - self.filter_shape[0] + 2*self.zero_padding)/ self.stride) + 1) / self.pooling_size[1]\n",
    "\n",
    "    \n",
    "    def build_model(self):\n",
    "        x = T.matrix('x')\n",
    "        y = T.ivector('y')\n",
    "        self.input = x\n",
    "        self.input_layer = x.reshape((self.batch_size, 1, self.image_shape[0][0], self.image_shape[0][1]))\n",
    "\n",
    "        self.layers = {}\n",
    "        self.layers[0] = ConvolutionLayer(\n",
    "                    random_state=rng,\n",
    "                    input=self.input_layer,\n",
    "                    image_shape=(self.batch_size,self.numbers_of_feature_maps[0],self.image_shape[0][0],self.image_shape[0][1]),\n",
    "                    filter_shape=(self.numbers_of_feature_maps[1],self.numbers_of_feature_maps[0],self.filter_shape[0],self.filter_shape[1]),\n",
    "                    pooling_size=self.pooling_size\n",
    "\n",
    "        )\n",
    "\n",
    "    \n",
    "        self.layers[1] = FullyConnectedLayer(\n",
    "                    random_state=rng,\n",
    "                    input=self.layers[0].output.flatten(2),\n",
    "                    input_dim=self.numbers_of_feature_maps[1] * self.image_shape[1][0] * self.image_shape[1][1],\n",
    "                    output_dim=100,\n",
    "                    activation=T.tanh\n",
    "        )\n",
    "\n",
    "        self.layers[2] = Perceptron(input=self.layers[1].output, input_dim=self.layers[1].output_dim, output_dim=self.output_size)\n",
    "\n",
    "        cost = self.layers[2].cost_function(y)\n",
    "        error = self.layers[2].errors(y)\n",
    "        self.predictions = self.layers[2].predictions\n",
    "        all_params = self.layers[2].params + self.layers[1].params + self.layers[0].params\n",
    "\n",
    "        grads = T.grad(cost, all_params)\n",
    "        updates = [(param_i, param_i - self.learning_rate * grad_i) for param_i,grad_i in zip(all_params,grads)]\n",
    "        self.training_step = theano.function([x,y], [cost], updates=updates)\n",
    "\n",
    "        self.test_model = theano.function([x,y], error)\n",
    "        self.predict_class = theano.function([x], self.predictions)\n"
   ]
  },
  {
   "cell_type": "markdown",
   "metadata": {},
   "source": [
    "Now we will implement the digit recognizer which uses our convolutional network: "
   ]
  },
  {
   "cell_type": "code",
   "execution_count": 136,
   "metadata": {
    "collapsed": true
   },
   "outputs": [],
   "source": [
    "class DigitRecognizer(object):\n",
    "    def __init__(self):\n",
    "        self.batch_size = 100\n",
    "        self.initialize_data()\n",
    "        self.model = ConvolutionalNetwork(batch_size=self.batch_size,input_shape=(1,28,28))\n",
    "\n",
    "\n",
    "    def initialize_data(self):\n",
    "        [self.train_x,self.train_y], [self.dev_x,self.dev_y], [self.test_x,self.test_y] = load_mnist_data()\n",
    "\n",
    "        self.number_of_batches_in_train = self.train_x.get_value(borrow=True).shape[0] // self.batch_size\n",
    "        self.number_of_batches_in_dev = self.dev_x.get_value(borrow=True).shape[0] // self.batch_size\n",
    "        self.number_of_batches_in_test = self.test_x.get_value(borrow=True).shape[0] // self.batch_size\n",
    "\n",
    "    def train_model(self):\n",
    "        self.model.build_model()\n",
    "        epochs = 5\n",
    "\n",
    "        for epoch in range(epochs):\n",
    "            # For each training example...\n",
    "            for i in np.random.permutation(int(self.number_of_batches_in_train)):\n",
    "                self.model.training_step(self.train_x[i*self.batch_size:(i+1)*self.batch_size].eval(),self.train_y[i*self.batch_size:(i+1)*self.batch_size].eval())\n",
    "\n",
    "            valid_error = 0.\n",
    "            train_error = 0.\n",
    "            for i in np.arange(int(self.number_of_batches_in_test)):\n",
    "                valid_error += self.model.test_model(self.test_x[i*self.batch_size:(i+1)*self.batch_size].eval(),self.test_y[i*self.batch_size:(i+1)*self.batch_size].eval())\n",
    "\n",
    "            for i in np.arange(int(self.number_of_batches_in_train)):\n",
    "                train_error += self.model.test_model(self.train_x[i*self.batch_size:(i+1)*self.batch_size].eval(),self.train_y[i*self.batch_size:(i+1)*self.batch_size].eval())\n",
    "\n",
    "\n",
    "            valid_error = valid_error / valid_batch_count\n",
    "            train_error = train_error / train_batch_count\n",
    "            print(\"epoch: %i train accuracy: %f validation accuracy: %f\" %(epoch, 1.0 - train_error,1.0 - valid_error))\n"
   ]
  },
  {
   "cell_type": "markdown",
   "metadata": {},
   "source": [
    "Let's see how it works:"
   ]
  },
  {
   "cell_type": "code",
   "execution_count": 137,
   "metadata": {
    "collapsed": false
   },
   "outputs": [
    {
     "name": "stdout",
     "output_type": "stream",
     "text": [
      "... loading data\n",
      "epoch: 0 train accuracy: 0.683400 validation accuracy: 0.688500\n",
      "epoch: 1 train accuracy: 0.809500 validation accuracy: 0.800000\n",
      "epoch: 2 train accuracy: 0.865600 validation accuracy: 0.861000\n",
      "epoch: 3 train accuracy: 0.896400 validation accuracy: 0.876500\n",
      "epoch: 4 train accuracy: 0.914600 validation accuracy: 0.891500\n"
     ]
    }
   ],
   "source": [
    "dr = DigitRecognizer()\n",
    "dr.train_model()"
   ]
  },
  {
   "cell_type": "code",
   "execution_count": 141,
   "metadata": {
    "collapsed": false
   },
   "outputs": [
    {
     "name": "stdout",
     "output_type": "stream",
     "text": [
      "(10, 12, 12)\n"
     ]
    },
    {
     "data": {
      "image/png": "[encoded data removed]",
      "text/plain": [
       "<matplotlib.figure.Figure at 0x225146320>"
      ]
     },
     "metadata": {},
     "output_type": "display_data"
    }
   ],
   "source": [
    "f = theano.function([dr.model.input],dr.model.layers[0].output)\n",
    "\n",
    "output = f(train_set_x[0:dr.model.batch_size].eval())\n",
    "\n",
    "print(output[0].shape)\n",
    "show_images(output[0])"
   ]
  },
  {
   "cell_type": "code",
   "execution_count": 150,
   "metadata": {
    "collapsed": false
   },
   "outputs": [
    {
     "name": "stdout",
     "output_type": "stream",
     "text": [
      "[10  1  5  5]\n"
     ]
    },
    {
     "data": {
      "image/png": "[encoded data removed]",
      "text/plain": [
       "<matplotlib.figure.Figure at 0x225d1dcf8>"
      ]
     },
     "metadata": {},
     "output_type": "display_data"
    },
    {
     "data": {
      "image/png": "[encoded data removed]",
      "text/plain": [
       "<matplotlib.figure.Figure at 0x225d03320>"
      ]
     },
     "metadata": {},
     "output_type": "display_data"
    },
    {
     "data": {
      "image/png": "[encoded data removed]",
      "text/plain": [
       "<matplotlib.figure.Figure at 0x225e54400>"
      ]
     },
     "metadata": {},
     "output_type": "display_data"
    },
    {
     "data": {
      "image/png": "[encoded data removed]",
      "text/plain": [
       "<matplotlib.figure.Figure at 0x22618f5c0>"
      ]
     },
     "metadata": {},
     "output_type": "display_data"
    },
    {
     "data": {
      "image/png": "[encoded data removed]",
      "text/plain": [
       "<matplotlib.figure.Figure at 0x22630f1d0>"
      ]
     },
     "metadata": {},
     "output_type": "display_data"
    },
    {
     "data": {
      "image/png": "[encoded data removed]",
      "text/plain": [
       "<matplotlib.figure.Figure at 0x22648a048>"
      ]
     },
     "metadata": {},
     "output_type": "display_data"
    },
    {
     "data": {
      "image/png": "[encoded data removed]",
      "text/plain": [
       "<matplotlib.figure.Figure at 0x226608128>"
      ]
     },
     "metadata": {},
     "output_type": "display_data"
    },
    {
     "data": {
      "image/png": "[encoded data removed]",
      "text/plain": [
       "<matplotlib.figure.Figure at 0x226783588>"
      ]
     },
     "metadata": {},
     "output_type": "display_data"
    },
    {
     "data": {
      "image/png": "[encoded data removed]",
      "text/plain": [
       "<matplotlib.figure.Figure at 0x2268fd588>"
      ]
     },
     "metadata": {},
     "output_type": "display_data"
    },
    {
     "data": {
      "image/png": "[encoded data removed]",
      "text/plain": [
       "<matplotlib.figure.Figure at 0x226a7f438>"
      ]
     },
     "metadata": {},
     "output_type": "display_data"
    }
   ],
   "source": [
    "print(dr.model.layers[0].W.shape.eval())\n",
    "\n",
    "show_weight_matrix(dr.model.layers[0].W[0][0].eval().reshape(5,5))\n",
    "show_weight_matrix(dr.model.layers[0].W[1][0].eval().reshape(5,5))\n",
    "show_weight_matrix(dr.model.layers[0].W[2][0].eval().reshape(5,5))\n",
    "show_weight_matrix(dr.model.layers[0].W[3][0].eval().reshape(5,5))\n",
    "show_weight_matrix(dr.model.layers[0].W[4][0].eval().reshape(5,5))\n",
    "show_weight_matrix(dr.model.layers[0].W[5][0].eval().reshape(5,5))\n",
    "show_weight_matrix(dr.model.layers[0].W[6][0].eval().reshape(5,5))\n",
    "show_weight_matrix(dr.model.layers[0].W[7][0].eval().reshape(5,5))\n",
    "show_weight_matrix(dr.model.layers[0].W[8][0].eval().reshape(5,5))\n",
    "show_weight_matrix(dr.model.layers[0].W[9][0].eval().reshape(5,5))"
   ]
  },
  {
   "cell_type": "code",
   "execution_count": 151,
   "metadata": {
    "collapsed": false
   },
   "outputs": [
    {
     "data": {
      "image/png": "[encoded data removed]",
      "text/plain": [
       "<matplotlib.figure.Figure at 0x2258faeb8>"
      ]
     },
     "metadata": {},
     "output_type": "display_data"
    }
   ],
   "source": [
    "show_weight_matrix(dr.model.layers[1].W.eval())"
   ]
  },
  {
   "cell_type": "code",
   "execution_count": 157,
   "metadata": {
    "collapsed": false
   },
   "outputs": [
    {
     "name": "stdout",
     "output_type": "stream",
     "text": [
      "[100  10]\n"
     ]
    },
    {
     "data": {
      "image/png": "[encoded data removed]",
      "text/plain": [
       "<matplotlib.figure.Figure at 0x227d17208>"
      ]
     },
     "metadata": {},
     "output_type": "display_data"
    },
    {
     "data": {
      "image/png": "[encoded data removed]",
      "text/plain": [
       "<matplotlib.figure.Figure at 0x227d6f828>"
      ]
     },
     "metadata": {},
     "output_type": "display_data"
    },
    {
     "data": {
      "image/png": "[encoded data removed]",
      "text/plain": [
       "<matplotlib.figure.Figure at 0x227d732b0>"
      ]
     },
     "metadata": {},
     "output_type": "display_data"
    },
    {
     "data": {
      "image/png": "[encoded data removed]",
      "text/plain": [
       "<matplotlib.figure.Figure at 0x228055518>"
      ]
     },
     "metadata": {},
     "output_type": "display_data"
    },
    {
     "data": {
      "image/png": "[encoded data removed]",
      "text/plain": [
       "<matplotlib.figure.Figure at 0x2280654e0>"
      ]
     },
     "metadata": {},
     "output_type": "display_data"
    },
    {
     "data": {
      "image/png": "[encoded data removed]",
      "text/plain": [
       "<matplotlib.figure.Figure at 0x22829aeb8>"
      ]
     },
     "metadata": {},
     "output_type": "display_data"
    },
    {
     "data": {
      "image/png": "[encoded data removed]",
      "text/plain": [
       "<matplotlib.figure.Figure at 0x228358080>"
      ]
     },
     "metadata": {},
     "output_type": "display_data"
    },
    {
     "data": {
      "image/png": "[encoded data removed]",
      "text/plain": [
       "<matplotlib.figure.Figure at 0x2285958d0>"
      ]
     },
     "metadata": {},
     "output_type": "display_data"
    },
    {
     "data": {
      "image/png": "[encoded data removed]",
      "text/plain": [
       "<matplotlib.figure.Figure at 0x2288e9278>"
      ]
     },
     "metadata": {},
     "output_type": "display_data"
    },
    {
     "data": {
      "image/png": "[encoded data removed]",
      "text/plain": [
       "<matplotlib.figure.Figure at 0x2288f18d0>"
      ]
     },
     "metadata": {},
     "output_type": "display_data"
    }
   ],
   "source": [
    "print(dr.model.layers[2].W.shape.eval())\n",
    "show_weight_matrix(dr.model.layers[2].W[:,0].eval().reshape(10,10))\n",
    "show_weight_matrix(dr.model.layers[2].W[:,1].eval().reshape(10,10))\n",
    "show_weight_matrix(dr.model.layers[2].W[:,2].eval().reshape(10,10))\n",
    "show_weight_matrix(dr.model.layers[2].W[:,3].eval().reshape(10,10))\n",
    "show_weight_matrix(dr.model.layers[2].W[:,4].eval().reshape(10,10))\n",
    "show_weight_matrix(dr.model.layers[2].W[:,5].eval().reshape(10,10))\n",
    "show_weight_matrix(dr.model.layers[2].W[:,6].eval().reshape(10,10))\n",
    "show_weight_matrix(dr.model.layers[2].W[:,7].eval().reshape(10,10))\n",
    "show_weight_matrix(dr.model.layers[2].W[:,8].eval().reshape(10,10))\n",
    "show_weight_matrix(dr.model.layers[2].W[:,9].eval().reshape(10,10))"
   ]
  },
  {
   "cell_type": "code",
   "execution_count": null,
   "metadata": {
    "collapsed": true
   },
   "outputs": [],
   "source": []
  }
 ],
 "metadata": {
  "_draft": {
   "nbviewer_url": "https://gist.github.com/ef44e2e48d478e410c29b00a24d15af3"
  },
  "gist": {
   "data": {
    "description": "CNN_Tutorial.ipynb",
    "public": true
   },
   "id": "ef44e2e48d478e410c29b00a24d15af3"
  },
  "kernelspec": {
   "display_name": "Python 3",
   "language": "python",
   "name": "python3"
  },
  "language_info": {
   "codemirror_mode": {
    "name": "ipython",
    "version": 3
   },
   "file_extension": ".py",
   "mimetype": "text/x-python",
   "name": "python",
   "nbconvert_exporter": "python",
   "pygments_lexer": "ipython3",
   "version": "3.5.1"
  },
  "latex_envs": {
   "bibliofile": "biblio.bib",
   "cite_by": "apalike",
   "current_citInitial": 1,
   "eqLabelWithNumbers": true,
   "eqNumInitial": 0
  }
 },
 "nbformat": 4,
 "nbformat_minor": 0
}
